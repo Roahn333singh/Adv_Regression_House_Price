{
 "cells": [
  {
   "cell_type": "code",
   "execution_count": 1,
   "id": "cc07b5fc",
   "metadata": {
    "_cell_guid": "b1076dfc-b9ad-4769-8c92-a6c4dae69d19",
    "_uuid": "8f2839f25d086af736a60e9eeb907d3b93b6e0e5",
    "execution": {
     "iopub.execute_input": "2025-04-18T13:07:36.610110Z",
     "iopub.status.busy": "2025-04-18T13:07:36.609800Z",
     "iopub.status.idle": "2025-04-18T13:07:38.519939Z",
     "shell.execute_reply": "2025-04-18T13:07:38.518809Z"
    },
    "papermill": {
     "duration": 1.918315,
     "end_time": "2025-04-18T13:07:38.521467",
     "exception": false,
     "start_time": "2025-04-18T13:07:36.603152",
     "status": "completed"
    },
    "tags": []
   },
   "outputs": [
    {
     "name": "stdout",
     "output_type": "stream",
     "text": [
      "/kaggle/input/playground-series-s5e1/sample_submission.csv\n",
      "/kaggle/input/playground-series-s5e1/train.csv\n",
      "/kaggle/input/playground-series-s5e1/test.csv\n"
     ]
    }
   ],
   "source": [
    "# This Python 3 environment comes with many helpful analytics libraries installed\n",
    "# It is defined by the kaggle/python Docker image: https://github.com/kaggle/docker-python\n",
    "# For example, here's several helpful packages to load\n",
    "\n",
    "import numpy as np # linear algebra\n",
    "import pandas as pd # data processing, CSV file I/O (e.g. pd.read_csv)\n",
    "\n",
    "# Input data files are available in the read-only \"../input/\" directory\n",
    "# For example, running this (by clicking run or pressing Shift+Enter) will list all files under the input directory\n",
    "\n",
    "import os\n",
    "for dirname, _, filenames in os.walk('/kaggle/input'):\n",
    "    for filename in filenames:\n",
    "        print(os.path.join(dirname, filename))\n",
    "\n",
    "# You can write up to 20GB to the current directory (/kaggle/working/) that gets preserved as output when you create a version using \"Save & Run All\" \n",
    "# You can also write temporary files to /kaggle/temp/, but they won't be saved outside of the current session"
   ]
  },
  {
   "cell_type": "code",
   "execution_count": 2,
   "id": "af68f9e0",
   "metadata": {
    "execution": {
     "iopub.execute_input": "2025-04-18T13:07:38.532129Z",
     "iopub.status.busy": "2025-04-18T13:07:38.531364Z",
     "iopub.status.idle": "2025-04-18T13:07:39.017655Z",
     "shell.execute_reply": "2025-04-18T13:07:39.016739Z"
    },
    "papermill": {
     "duration": 0.493096,
     "end_time": "2025-04-18T13:07:39.019235",
     "exception": false,
     "start_time": "2025-04-18T13:07:38.526139",
     "status": "completed"
    },
    "tags": []
   },
   "outputs": [
    {
     "data": {
      "text/html": [
       "<div>\n",
       "<style scoped>\n",
       "    .dataframe tbody tr th:only-of-type {\n",
       "        vertical-align: middle;\n",
       "    }\n",
       "\n",
       "    .dataframe tbody tr th {\n",
       "        vertical-align: top;\n",
       "    }\n",
       "\n",
       "    .dataframe thead th {\n",
       "        text-align: right;\n",
       "    }\n",
       "</style>\n",
       "<table border=\"1\" class=\"dataframe\">\n",
       "  <thead>\n",
       "    <tr style=\"text-align: right;\">\n",
       "      <th></th>\n",
       "      <th>id</th>\n",
       "      <th>date</th>\n",
       "      <th>country</th>\n",
       "      <th>store</th>\n",
       "      <th>product</th>\n",
       "      <th>num_sold</th>\n",
       "    </tr>\n",
       "  </thead>\n",
       "  <tbody>\n",
       "    <tr>\n",
       "      <th>1</th>\n",
       "      <td>1</td>\n",
       "      <td>2010-01-01</td>\n",
       "      <td>Canada</td>\n",
       "      <td>Discount Stickers</td>\n",
       "      <td>Kaggle</td>\n",
       "      <td>973.0</td>\n",
       "    </tr>\n",
       "    <tr>\n",
       "      <th>2</th>\n",
       "      <td>2</td>\n",
       "      <td>2010-01-01</td>\n",
       "      <td>Canada</td>\n",
       "      <td>Discount Stickers</td>\n",
       "      <td>Kaggle Tiers</td>\n",
       "      <td>906.0</td>\n",
       "    </tr>\n",
       "    <tr>\n",
       "      <th>3</th>\n",
       "      <td>3</td>\n",
       "      <td>2010-01-01</td>\n",
       "      <td>Canada</td>\n",
       "      <td>Discount Stickers</td>\n",
       "      <td>Kerneler</td>\n",
       "      <td>423.0</td>\n",
       "    </tr>\n",
       "    <tr>\n",
       "      <th>4</th>\n",
       "      <td>4</td>\n",
       "      <td>2010-01-01</td>\n",
       "      <td>Canada</td>\n",
       "      <td>Discount Stickers</td>\n",
       "      <td>Kerneler Dark Mode</td>\n",
       "      <td>491.0</td>\n",
       "    </tr>\n",
       "    <tr>\n",
       "      <th>5</th>\n",
       "      <td>5</td>\n",
       "      <td>2010-01-01</td>\n",
       "      <td>Canada</td>\n",
       "      <td>Stickers for Less</td>\n",
       "      <td>Holographic Goose</td>\n",
       "      <td>300.0</td>\n",
       "    </tr>\n",
       "  </tbody>\n",
       "</table>\n",
       "</div>"
      ],
      "text/plain": [
       "   id        date country              store             product  num_sold\n",
       "1   1  2010-01-01  Canada  Discount Stickers              Kaggle     973.0\n",
       "2   2  2010-01-01  Canada  Discount Stickers        Kaggle Tiers     906.0\n",
       "3   3  2010-01-01  Canada  Discount Stickers            Kerneler     423.0\n",
       "4   4  2010-01-01  Canada  Discount Stickers  Kerneler Dark Mode     491.0\n",
       "5   5  2010-01-01  Canada  Stickers for Less   Holographic Goose     300.0"
      ]
     },
     "execution_count": 2,
     "metadata": {},
     "output_type": "execute_result"
    }
   ],
   "source": [
    "df_train=pd.read_csv('/kaggle/input/playground-series-s5e1/train.csv')\n",
    "df_train.dropna(inplace=True)\n",
    "df_train.head()\n",
    "\n",
    "# Shape is -> (221259, 6)"
   ]
  },
  {
   "cell_type": "code",
   "execution_count": 3,
   "id": "0c3cc4ba",
   "metadata": {
    "execution": {
     "iopub.execute_input": "2025-04-18T13:07:39.029395Z",
     "iopub.status.busy": "2025-04-18T13:07:39.029103Z",
     "iopub.status.idle": "2025-04-18T13:07:39.060337Z",
     "shell.execute_reply": "2025-04-18T13:07:39.059314Z"
    },
    "papermill": {
     "duration": 0.038043,
     "end_time": "2025-04-18T13:07:39.061967",
     "exception": false,
     "start_time": "2025-04-18T13:07:39.023924",
     "status": "completed"
    },
    "tags": []
   },
   "outputs": [
    {
     "data": {
      "text/html": [
       "<div>\n",
       "<style scoped>\n",
       "    .dataframe tbody tr th:only-of-type {\n",
       "        vertical-align: middle;\n",
       "    }\n",
       "\n",
       "    .dataframe tbody tr th {\n",
       "        vertical-align: top;\n",
       "    }\n",
       "\n",
       "    .dataframe thead th {\n",
       "        text-align: right;\n",
       "    }\n",
       "</style>\n",
       "<table border=\"1\" class=\"dataframe\">\n",
       "  <thead>\n",
       "    <tr style=\"text-align: right;\">\n",
       "      <th></th>\n",
       "      <th>id</th>\n",
       "      <th>num_sold</th>\n",
       "    </tr>\n",
       "  </thead>\n",
       "  <tbody>\n",
       "    <tr>\n",
       "      <th>count</th>\n",
       "      <td>221259.000000</td>\n",
       "      <td>221259.000000</td>\n",
       "    </tr>\n",
       "    <tr>\n",
       "      <th>mean</th>\n",
       "      <td>115398.848472</td>\n",
       "      <td>752.527382</td>\n",
       "    </tr>\n",
       "    <tr>\n",
       "      <th>std</th>\n",
       "      <td>66315.365084</td>\n",
       "      <td>690.165445</td>\n",
       "    </tr>\n",
       "    <tr>\n",
       "      <th>min</th>\n",
       "      <td>1.000000</td>\n",
       "      <td>5.000000</td>\n",
       "    </tr>\n",
       "    <tr>\n",
       "      <th>25%</th>\n",
       "      <td>58160.500000</td>\n",
       "      <td>219.000000</td>\n",
       "    </tr>\n",
       "    <tr>\n",
       "      <th>50%</th>\n",
       "      <td>115552.000000</td>\n",
       "      <td>605.000000</td>\n",
       "    </tr>\n",
       "    <tr>\n",
       "      <th>75%</th>\n",
       "      <td>172688.500000</td>\n",
       "      <td>1114.000000</td>\n",
       "    </tr>\n",
       "    <tr>\n",
       "      <th>max</th>\n",
       "      <td>230129.000000</td>\n",
       "      <td>5939.000000</td>\n",
       "    </tr>\n",
       "  </tbody>\n",
       "</table>\n",
       "</div>"
      ],
      "text/plain": [
       "                  id       num_sold\n",
       "count  221259.000000  221259.000000\n",
       "mean   115398.848472     752.527382\n",
       "std     66315.365084     690.165445\n",
       "min         1.000000       5.000000\n",
       "25%     58160.500000     219.000000\n",
       "50%    115552.000000     605.000000\n",
       "75%    172688.500000    1114.000000\n",
       "max    230129.000000    5939.000000"
      ]
     },
     "execution_count": 3,
     "metadata": {},
     "output_type": "execute_result"
    }
   ],
   "source": [
    "df_train.describe()"
   ]
  },
  {
   "cell_type": "code",
   "execution_count": 4,
   "id": "c1f2bc90",
   "metadata": {
    "execution": {
     "iopub.execute_input": "2025-04-18T13:07:39.072873Z",
     "iopub.status.busy": "2025-04-18T13:07:39.072556Z",
     "iopub.status.idle": "2025-04-18T13:07:39.138530Z",
     "shell.execute_reply": "2025-04-18T13:07:39.137468Z"
    },
    "papermill": {
     "duration": 0.07314,
     "end_time": "2025-04-18T13:07:39.140057",
     "exception": false,
     "start_time": "2025-04-18T13:07:39.066917",
     "status": "completed"
    },
    "tags": []
   },
   "outputs": [
    {
     "name": "stdout",
     "output_type": "stream",
     "text": [
      "69.73818014182473\n"
     ]
    }
   ],
   "source": [
    "# Analysing if our data follows normal distrbution emperical  rule i.e. (68-95-99.7 rule)\n",
    "\n",
    "# 68% of data must lie 1 std from mean -> (u + 1std) or (u -1std)\n",
    "\n",
    "m=752.527382\n",
    "std=690.165445\n",
    "count=0\n",
    "pos_range=m+std\n",
    "neg_range=m-std\n",
    "for i in df_train['num_sold'].values:\n",
    "    if i<=pos_range and i>=neg_range:\n",
    "        count+=1\n",
    "print((count/221259)*100)\n",
    "#  we got 69% as output"
   ]
  },
  {
   "cell_type": "code",
   "execution_count": 5,
   "id": "65d3df1f",
   "metadata": {
    "execution": {
     "iopub.execute_input": "2025-04-18T13:07:39.150736Z",
     "iopub.status.busy": "2025-04-18T13:07:39.150390Z",
     "iopub.status.idle": "2025-04-18T13:07:39.220853Z",
     "shell.execute_reply": "2025-04-18T13:07:39.219834Z"
    },
    "papermill": {
     "duration": 0.077667,
     "end_time": "2025-04-18T13:07:39.222340",
     "exception": false,
     "start_time": "2025-04-18T13:07:39.144673",
     "status": "completed"
    },
    "tags": []
   },
   "outputs": [
    {
     "name": "stdout",
     "output_type": "stream",
     "text": [
      "95.55905070528205\n"
     ]
    }
   ],
   "source": [
    "# 95% of data must lie 2 std from mean -> (u + 2std) or (u -2std)\n",
    "m=752.527382\n",
    "std=690.165445\n",
    "count=0\n",
    "pos_range=m+2*std\n",
    "neg_range=m-2*std\n",
    "for i in df_train['num_sold'].values:\n",
    "    if i<=pos_range and i>=neg_range:\n",
    "        count+=1\n",
    "print((count/221259)*100)\n",
    "\n",
    "#  we got 95% as output"
   ]
  },
  {
   "cell_type": "code",
   "execution_count": 6,
   "id": "bf2a55e3",
   "metadata": {
    "execution": {
     "iopub.execute_input": "2025-04-18T13:07:39.232959Z",
     "iopub.status.busy": "2025-04-18T13:07:39.232669Z",
     "iopub.status.idle": "2025-04-18T13:07:39.552193Z",
     "shell.execute_reply": "2025-04-18T13:07:39.551270Z"
    },
    "papermill": {
     "duration": 0.32647,
     "end_time": "2025-04-18T13:07:39.553647",
     "exception": false,
     "start_time": "2025-04-18T13:07:39.227177",
     "status": "completed"
    },
    "tags": []
   },
   "outputs": [
    {
     "data": {
      "image/png": "[encoded data removed]",
      "text/plain": [
       "<Figure size 640x480 with 1 Axes>"
      ]
     },
     "metadata": {},
     "output_type": "display_data"
    }
   ],
   "source": [
    "import matplotlib.pyplot as plt\n",
    "\n",
    "# x=df_train['id']\n",
    "# y=df_train['num_sold']\n",
    "\n",
    "plt.hist(df_train['num_sold'],bins=30,edgecolor='black')\n",
    "plt.show()\n"
   ]
  },
  {
   "cell_type": "code",
   "execution_count": 7,
   "id": "ad221caa",
   "metadata": {
    "execution": {
     "iopub.execute_input": "2025-04-18T13:07:39.564844Z",
     "iopub.status.busy": "2025-04-18T13:07:39.564304Z",
     "iopub.status.idle": "2025-04-18T13:07:41.507257Z",
     "shell.execute_reply": "2025-04-18T13:07:41.506323Z"
    },
    "papermill": {
     "duration": 1.950001,
     "end_time": "2025-04-18T13:07:41.508787",
     "exception": false,
     "start_time": "2025-04-18T13:07:39.558786",
     "status": "completed"
    },
    "tags": []
   },
   "outputs": [
    {
     "data": {
      "image/png": "[encoded data removed]",
      "text/plain": [
       "<Figure size 800x600 with 1 Axes>"
      ]
     },
     "metadata": {},
     "output_type": "display_data"
    }
   ],
   "source": [
    "import scipy.stats as stats\n",
    "plt.figure(figsize=(8, 6))\n",
    "stats.probplot(df_train['num_sold'].dropna(), dist=\"norm\", plot=plt)\n",
    "plt.title('Q-Q Plot of num_sold')\n",
    "plt.xlabel('Theoretical Quantiles')\n",
    "plt.ylabel('Sample Quantiles')\n",
    "plt.grid()\n",
    "plt.show()"
   ]
  },
  {
   "cell_type": "code",
   "execution_count": 8,
   "id": "f78a2d65",
   "metadata": {
    "execution": {
     "iopub.execute_input": "2025-04-18T13:07:41.523434Z",
     "iopub.status.busy": "2025-04-18T13:07:41.522999Z",
     "iopub.status.idle": "2025-04-18T13:07:42.245766Z",
     "shell.execute_reply": "2025-04-18T13:07:42.244787Z"
    },
    "papermill": {
     "duration": 0.730782,
     "end_time": "2025-04-18T13:07:42.247300",
     "exception": false,
     "start_time": "2025-04-18T13:07:41.516518",
     "status": "completed"
    },
    "tags": []
   },
   "outputs": [
    {
     "data": {
      "image/png": "[encoded data removed]",
      "text/plain": [
       "<Figure size 800x600 with 1 Axes>"
      ]
     },
     "metadata": {},
     "output_type": "display_data"
    }
   ],
   "source": [
    "#\n",
    "df_train['num_sold_log'] = np.log1p(df_train['num_sold'].dropna())\n",
    "\n",
    "# Create Q-Q plot for the transformed data\n",
    "plt.figure(figsize=(8, 6))\n",
    "stats.probplot(df_train['num_sold_log'], dist=\"norm\", plot=plt)\n",
    "plt.title('Q-Q Plot of Log-Transformed num_sold')\n",
    "plt.xlabel('Theoretical Quantiles')\n",
    "plt.ylabel('Sample Quantiles')\n",
    "plt.grid()\n",
    "plt.show()"
   ]
  },
  {
   "cell_type": "code",
   "execution_count": 9,
   "id": "9c14ea0e",
   "metadata": {
    "execution": {
     "iopub.execute_input": "2025-04-18T13:07:42.261588Z",
     "iopub.status.busy": "2025-04-18T13:07:42.261260Z",
     "iopub.status.idle": "2025-04-18T13:07:42.272853Z",
     "shell.execute_reply": "2025-04-18T13:07:42.272059Z"
    },
    "papermill": {
     "duration": 0.020391,
     "end_time": "2025-04-18T13:07:42.274280",
     "exception": false,
     "start_time": "2025-04-18T13:07:42.253889",
     "status": "completed"
    },
    "tags": []
   },
   "outputs": [
    {
     "data": {
      "text/html": [
       "<div>\n",
       "<style scoped>\n",
       "    .dataframe tbody tr th:only-of-type {\n",
       "        vertical-align: middle;\n",
       "    }\n",
       "\n",
       "    .dataframe tbody tr th {\n",
       "        vertical-align: top;\n",
       "    }\n",
       "\n",
       "    .dataframe thead th {\n",
       "        text-align: right;\n",
       "    }\n",
       "</style>\n",
       "<table border=\"1\" class=\"dataframe\">\n",
       "  <thead>\n",
       "    <tr style=\"text-align: right;\">\n",
       "      <th></th>\n",
       "      <th>id</th>\n",
       "      <th>date</th>\n",
       "      <th>country</th>\n",
       "      <th>store</th>\n",
       "      <th>product</th>\n",
       "      <th>num_sold</th>\n",
       "      <th>num_sold_log</th>\n",
       "    </tr>\n",
       "  </thead>\n",
       "  <tbody>\n",
       "    <tr>\n",
       "      <th>1</th>\n",
       "      <td>1</td>\n",
       "      <td>2010-01-01</td>\n",
       "      <td>Canada</td>\n",
       "      <td>Discount Stickers</td>\n",
       "      <td>Kaggle</td>\n",
       "      <td>973.0</td>\n",
       "      <td>6.881411</td>\n",
       "    </tr>\n",
       "    <tr>\n",
       "      <th>2</th>\n",
       "      <td>2</td>\n",
       "      <td>2010-01-01</td>\n",
       "      <td>Canada</td>\n",
       "      <td>Discount Stickers</td>\n",
       "      <td>Kaggle Tiers</td>\n",
       "      <td>906.0</td>\n",
       "      <td>6.810142</td>\n",
       "    </tr>\n",
       "    <tr>\n",
       "      <th>3</th>\n",
       "      <td>3</td>\n",
       "      <td>2010-01-01</td>\n",
       "      <td>Canada</td>\n",
       "      <td>Discount Stickers</td>\n",
       "      <td>Kerneler</td>\n",
       "      <td>423.0</td>\n",
       "      <td>6.049733</td>\n",
       "    </tr>\n",
       "    <tr>\n",
       "      <th>4</th>\n",
       "      <td>4</td>\n",
       "      <td>2010-01-01</td>\n",
       "      <td>Canada</td>\n",
       "      <td>Discount Stickers</td>\n",
       "      <td>Kerneler Dark Mode</td>\n",
       "      <td>491.0</td>\n",
       "      <td>6.198479</td>\n",
       "    </tr>\n",
       "    <tr>\n",
       "      <th>5</th>\n",
       "      <td>5</td>\n",
       "      <td>2010-01-01</td>\n",
       "      <td>Canada</td>\n",
       "      <td>Stickers for Less</td>\n",
       "      <td>Holographic Goose</td>\n",
       "      <td>300.0</td>\n",
       "      <td>5.707110</td>\n",
       "    </tr>\n",
       "  </tbody>\n",
       "</table>\n",
       "</div>"
      ],
      "text/plain": [
       "   id        date country              store             product  num_sold  \\\n",
       "1   1  2010-01-01  Canada  Discount Stickers              Kaggle     973.0   \n",
       "2   2  2010-01-01  Canada  Discount Stickers        Kaggle Tiers     906.0   \n",
       "3   3  2010-01-01  Canada  Discount Stickers            Kerneler     423.0   \n",
       "4   4  2010-01-01  Canada  Discount Stickers  Kerneler Dark Mode     491.0   \n",
       "5   5  2010-01-01  Canada  Stickers for Less   Holographic Goose     300.0   \n",
       "\n",
       "   num_sold_log  \n",
       "1      6.881411  \n",
       "2      6.810142  \n",
       "3      6.049733  \n",
       "4      6.198479  \n",
       "5      5.707110  "
      ]
     },
     "execution_count": 9,
     "metadata": {},
     "output_type": "execute_result"
    }
   ],
   "source": [
    "df_train.head()"
   ]
  },
  {
   "cell_type": "code",
   "execution_count": 10,
   "id": "c5a19719",
   "metadata": {
    "execution": {
     "iopub.execute_input": "2025-04-18T13:07:42.288261Z",
     "iopub.status.busy": "2025-04-18T13:07:42.287951Z",
     "iopub.status.idle": "2025-04-18T13:07:42.600713Z",
     "shell.execute_reply": "2025-04-18T13:07:42.599796Z"
    },
    "papermill": {
     "duration": 0.321544,
     "end_time": "2025-04-18T13:07:42.602214",
     "exception": false,
     "start_time": "2025-04-18T13:07:42.280670",
     "status": "completed"
    },
    "tags": []
   },
   "outputs": [
    {
     "data": {
      "text/html": [
       "<div>\n",
       "<style scoped>\n",
       "    .dataframe tbody tr th:only-of-type {\n",
       "        vertical-align: middle;\n",
       "    }\n",
       "\n",
       "    .dataframe tbody tr th {\n",
       "        vertical-align: top;\n",
       "    }\n",
       "\n",
       "    .dataframe thead th {\n",
       "        text-align: right;\n",
       "    }\n",
       "</style>\n",
       "<table border=\"1\" class=\"dataframe\">\n",
       "  <thead>\n",
       "    <tr style=\"text-align: right;\">\n",
       "      <th></th>\n",
       "      <th>id</th>\n",
       "      <th>date</th>\n",
       "      <th>country</th>\n",
       "      <th>store</th>\n",
       "      <th>product</th>\n",
       "      <th>num_sold</th>\n",
       "      <th>num_sold_log</th>\n",
       "      <th>country_Canada</th>\n",
       "      <th>country_Finland</th>\n",
       "      <th>country_Italy</th>\n",
       "      <th>country_Kenya</th>\n",
       "      <th>country_Norway</th>\n",
       "      <th>country_Singapore</th>\n",
       "    </tr>\n",
       "  </thead>\n",
       "  <tbody>\n",
       "    <tr>\n",
       "      <th>1</th>\n",
       "      <td>1.0</td>\n",
       "      <td>2010-01-01</td>\n",
       "      <td>Canada</td>\n",
       "      <td>Discount Stickers</td>\n",
       "      <td>Kaggle</td>\n",
       "      <td>973.0</td>\n",
       "      <td>6.881411</td>\n",
       "      <td>1.0</td>\n",
       "      <td>0.0</td>\n",
       "      <td>0.0</td>\n",
       "      <td>0.0</td>\n",
       "      <td>0.0</td>\n",
       "      <td>0.0</td>\n",
       "    </tr>\n",
       "    <tr>\n",
       "      <th>2</th>\n",
       "      <td>2.0</td>\n",
       "      <td>2010-01-01</td>\n",
       "      <td>Canada</td>\n",
       "      <td>Discount Stickers</td>\n",
       "      <td>Kaggle Tiers</td>\n",
       "      <td>906.0</td>\n",
       "      <td>6.810142</td>\n",
       "      <td>1.0</td>\n",
       "      <td>0.0</td>\n",
       "      <td>0.0</td>\n",
       "      <td>0.0</td>\n",
       "      <td>0.0</td>\n",
       "      <td>0.0</td>\n",
       "    </tr>\n",
       "    <tr>\n",
       "      <th>3</th>\n",
       "      <td>3.0</td>\n",
       "      <td>2010-01-01</td>\n",
       "      <td>Canada</td>\n",
       "      <td>Discount Stickers</td>\n",
       "      <td>Kerneler</td>\n",
       "      <td>423.0</td>\n",
       "      <td>6.049733</td>\n",
       "      <td>1.0</td>\n",
       "      <td>0.0</td>\n",
       "      <td>0.0</td>\n",
       "      <td>0.0</td>\n",
       "      <td>0.0</td>\n",
       "      <td>0.0</td>\n",
       "    </tr>\n",
       "    <tr>\n",
       "      <th>4</th>\n",
       "      <td>4.0</td>\n",
       "      <td>2010-01-01</td>\n",
       "      <td>Canada</td>\n",
       "      <td>Discount Stickers</td>\n",
       "      <td>Kerneler Dark Mode</td>\n",
       "      <td>491.0</td>\n",
       "      <td>6.198479</td>\n",
       "      <td>1.0</td>\n",
       "      <td>0.0</td>\n",
       "      <td>0.0</td>\n",
       "      <td>0.0</td>\n",
       "      <td>0.0</td>\n",
       "      <td>0.0</td>\n",
       "    </tr>\n",
       "    <tr>\n",
       "      <th>5</th>\n",
       "      <td>5.0</td>\n",
       "      <td>2010-01-01</td>\n",
       "      <td>Canada</td>\n",
       "      <td>Stickers for Less</td>\n",
       "      <td>Holographic Goose</td>\n",
       "      <td>300.0</td>\n",
       "      <td>5.707110</td>\n",
       "      <td>1.0</td>\n",
       "      <td>0.0</td>\n",
       "      <td>0.0</td>\n",
       "      <td>0.0</td>\n",
       "      <td>0.0</td>\n",
       "      <td>0.0</td>\n",
       "    </tr>\n",
       "  </tbody>\n",
       "</table>\n",
       "</div>"
      ],
      "text/plain": [
       "    id        date country              store             product  num_sold  \\\n",
       "1  1.0  2010-01-01  Canada  Discount Stickers              Kaggle     973.0   \n",
       "2  2.0  2010-01-01  Canada  Discount Stickers        Kaggle Tiers     906.0   \n",
       "3  3.0  2010-01-01  Canada  Discount Stickers            Kerneler     423.0   \n",
       "4  4.0  2010-01-01  Canada  Discount Stickers  Kerneler Dark Mode     491.0   \n",
       "5  5.0  2010-01-01  Canada  Stickers for Less   Holographic Goose     300.0   \n",
       "\n",
       "   num_sold_log  country_Canada  country_Finland  country_Italy  \\\n",
       "1      6.881411             1.0              0.0            0.0   \n",
       "2      6.810142             1.0              0.0            0.0   \n",
       "3      6.049733             1.0              0.0            0.0   \n",
       "4      6.198479             1.0              0.0            0.0   \n",
       "5      5.707110             1.0              0.0            0.0   \n",
       "\n",
       "   country_Kenya  country_Norway  country_Singapore  \n",
       "1            0.0             0.0                0.0  \n",
       "2            0.0             0.0                0.0  \n",
       "3            0.0             0.0                0.0  \n",
       "4            0.0             0.0                0.0  \n",
       "5            0.0             0.0                0.0  "
      ]
     },
     "execution_count": 10,
     "metadata": {},
     "output_type": "execute_result"
    }
   ],
   "source": [
    "# unique element in country column ->  ['Canada', 'Finland', 'Italy', 'Kenya', 'Norway', 'Singapore']\n",
    "\n",
    "from sklearn.preprocessing import OneHotEncoder\n",
    "\n",
    "enc = OneHotEncoder()\n",
    "enc.fit(df_train['country'].values.reshape(-1, 1))  # Fit with the country column\n",
    "result = enc.transform(df_train['country'].values.reshape(-1, 1)).toarray()\n",
    "\n",
    "# Get feature names for the new columns\n",
    "col_names = enc.get_feature_names_out(['country'])\n",
    "\n",
    "# Convert result into a DataFrame\n",
    "onehot_df = pd.DataFrame(result, columns=col_names)\n",
    "\n",
    "# Concatenate with original df_train\n",
    "df_train = pd.concat([df_train, onehot_df], axis=1)\n",
    "\n",
    "# Now check the head\n",
    "df_train.head()"
   ]
  },
  {
   "cell_type": "code",
   "execution_count": 11,
   "id": "acaaf92f",
   "metadata": {
    "execution": {
     "iopub.execute_input": "2025-04-18T13:07:42.616538Z",
     "iopub.status.busy": "2025-04-18T13:07:42.616228Z",
     "iopub.status.idle": "2025-04-18T13:07:42.636161Z",
     "shell.execute_reply": "2025-04-18T13:07:42.635226Z"
    },
    "papermill": {
     "duration": 0.029027,
     "end_time": "2025-04-18T13:07:42.637855",
     "exception": false,
     "start_time": "2025-04-18T13:07:42.608828",
     "status": "completed"
    },
    "tags": []
   },
   "outputs": [],
   "source": [
    "df_train=df_train[[i for i in df_train.columns if i!='num_sold_log']+['num_sold_log']]\n"
   ]
  },
  {
   "cell_type": "code",
   "execution_count": 12,
   "id": "36fc7e01",
   "metadata": {
    "execution": {
     "iopub.execute_input": "2025-04-18T13:07:42.652119Z",
     "iopub.status.busy": "2025-04-18T13:07:42.651825Z",
     "iopub.status.idle": "2025-04-18T13:07:42.667702Z",
     "shell.execute_reply": "2025-04-18T13:07:42.666851Z"
    },
    "papermill": {
     "duration": 0.024578,
     "end_time": "2025-04-18T13:07:42.669069",
     "exception": false,
     "start_time": "2025-04-18T13:07:42.644491",
     "status": "completed"
    },
    "tags": []
   },
   "outputs": [
    {
     "data": {
      "text/html": [
       "<div>\n",
       "<style scoped>\n",
       "    .dataframe tbody tr th:only-of-type {\n",
       "        vertical-align: middle;\n",
       "    }\n",
       "\n",
       "    .dataframe tbody tr th {\n",
       "        vertical-align: top;\n",
       "    }\n",
       "\n",
       "    .dataframe thead th {\n",
       "        text-align: right;\n",
       "    }\n",
       "</style>\n",
       "<table border=\"1\" class=\"dataframe\">\n",
       "  <thead>\n",
       "    <tr style=\"text-align: right;\">\n",
       "      <th></th>\n",
       "      <th>id</th>\n",
       "      <th>date</th>\n",
       "      <th>country</th>\n",
       "      <th>store</th>\n",
       "      <th>product</th>\n",
       "      <th>num_sold</th>\n",
       "      <th>country_Canada</th>\n",
       "      <th>country_Finland</th>\n",
       "      <th>country_Italy</th>\n",
       "      <th>country_Kenya</th>\n",
       "      <th>country_Norway</th>\n",
       "      <th>country_Singapore</th>\n",
       "      <th>num_sold_log</th>\n",
       "    </tr>\n",
       "  </thead>\n",
       "  <tbody>\n",
       "    <tr>\n",
       "      <th>1</th>\n",
       "      <td>1.0</td>\n",
       "      <td>2010-01-01</td>\n",
       "      <td>Canada</td>\n",
       "      <td>Discount Stickers</td>\n",
       "      <td>Kaggle</td>\n",
       "      <td>973.0</td>\n",
       "      <td>1.0</td>\n",
       "      <td>0.0</td>\n",
       "      <td>0.0</td>\n",
       "      <td>0.0</td>\n",
       "      <td>0.0</td>\n",
       "      <td>0.0</td>\n",
       "      <td>6.881411</td>\n",
       "    </tr>\n",
       "    <tr>\n",
       "      <th>2</th>\n",
       "      <td>2.0</td>\n",
       "      <td>2010-01-01</td>\n",
       "      <td>Canada</td>\n",
       "      <td>Discount Stickers</td>\n",
       "      <td>Kaggle Tiers</td>\n",
       "      <td>906.0</td>\n",
       "      <td>1.0</td>\n",
       "      <td>0.0</td>\n",
       "      <td>0.0</td>\n",
       "      <td>0.0</td>\n",
       "      <td>0.0</td>\n",
       "      <td>0.0</td>\n",
       "      <td>6.810142</td>\n",
       "    </tr>\n",
       "    <tr>\n",
       "      <th>3</th>\n",
       "      <td>3.0</td>\n",
       "      <td>2010-01-01</td>\n",
       "      <td>Canada</td>\n",
       "      <td>Discount Stickers</td>\n",
       "      <td>Kerneler</td>\n",
       "      <td>423.0</td>\n",
       "      <td>1.0</td>\n",
       "      <td>0.0</td>\n",
       "      <td>0.0</td>\n",
       "      <td>0.0</td>\n",
       "      <td>0.0</td>\n",
       "      <td>0.0</td>\n",
       "      <td>6.049733</td>\n",
       "    </tr>\n",
       "    <tr>\n",
       "      <th>4</th>\n",
       "      <td>4.0</td>\n",
       "      <td>2010-01-01</td>\n",
       "      <td>Canada</td>\n",
       "      <td>Discount Stickers</td>\n",
       "      <td>Kerneler Dark Mode</td>\n",
       "      <td>491.0</td>\n",
       "      <td>1.0</td>\n",
       "      <td>0.0</td>\n",
       "      <td>0.0</td>\n",
       "      <td>0.0</td>\n",
       "      <td>0.0</td>\n",
       "      <td>0.0</td>\n",
       "      <td>6.198479</td>\n",
       "    </tr>\n",
       "    <tr>\n",
       "      <th>5</th>\n",
       "      <td>5.0</td>\n",
       "      <td>2010-01-01</td>\n",
       "      <td>Canada</td>\n",
       "      <td>Stickers for Less</td>\n",
       "      <td>Holographic Goose</td>\n",
       "      <td>300.0</td>\n",
       "      <td>1.0</td>\n",
       "      <td>0.0</td>\n",
       "      <td>0.0</td>\n",
       "      <td>0.0</td>\n",
       "      <td>0.0</td>\n",
       "      <td>0.0</td>\n",
       "      <td>5.707110</td>\n",
       "    </tr>\n",
       "  </tbody>\n",
       "</table>\n",
       "</div>"
      ],
      "text/plain": [
       "    id        date country              store             product  num_sold  \\\n",
       "1  1.0  2010-01-01  Canada  Discount Stickers              Kaggle     973.0   \n",
       "2  2.0  2010-01-01  Canada  Discount Stickers        Kaggle Tiers     906.0   \n",
       "3  3.0  2010-01-01  Canada  Discount Stickers            Kerneler     423.0   \n",
       "4  4.0  2010-01-01  Canada  Discount Stickers  Kerneler Dark Mode     491.0   \n",
       "5  5.0  2010-01-01  Canada  Stickers for Less   Holographic Goose     300.0   \n",
       "\n",
       "   country_Canada  country_Finland  country_Italy  country_Kenya  \\\n",
       "1             1.0              0.0            0.0            0.0   \n",
       "2             1.0              0.0            0.0            0.0   \n",
       "3             1.0              0.0            0.0            0.0   \n",
       "4             1.0              0.0            0.0            0.0   \n",
       "5             1.0              0.0            0.0            0.0   \n",
       "\n",
       "   country_Norway  country_Singapore  num_sold_log  \n",
       "1             0.0                0.0      6.881411  \n",
       "2             0.0                0.0      6.810142  \n",
       "3             0.0                0.0      6.049733  \n",
       "4             0.0                0.0      6.198479  \n",
       "5             0.0                0.0      5.707110  "
      ]
     },
     "execution_count": 12,
     "metadata": {},
     "output_type": "execute_result"
    }
   ],
   "source": [
    "df_train.head()"
   ]
  },
  {
   "cell_type": "code",
   "execution_count": 13,
   "id": "8d2c99f4",
   "metadata": {
    "execution": {
     "iopub.execute_input": "2025-04-18T13:07:42.683646Z",
     "iopub.status.busy": "2025-04-18T13:07:42.683035Z",
     "iopub.status.idle": "2025-04-18T13:07:42.703569Z",
     "shell.execute_reply": "2025-04-18T13:07:42.702766Z"
    },
    "papermill": {
     "duration": 0.029494,
     "end_time": "2025-04-18T13:07:42.705245",
     "exception": false,
     "start_time": "2025-04-18T13:07:42.675751",
     "status": "completed"
    },
    "tags": []
   },
   "outputs": [],
   "source": [
    "df_train.drop(['country','num_sold'],axis=1,inplace=True)"
   ]
  },
  {
   "cell_type": "code",
   "execution_count": 14,
   "id": "4a3de47d",
   "metadata": {
    "execution": {
     "iopub.execute_input": "2025-04-18T13:07:42.720598Z",
     "iopub.status.busy": "2025-04-18T13:07:42.720236Z",
     "iopub.status.idle": "2025-04-18T13:07:42.735942Z",
     "shell.execute_reply": "2025-04-18T13:07:42.735102Z"
    },
    "papermill": {
     "duration": 0.025252,
     "end_time": "2025-04-18T13:07:42.737297",
     "exception": false,
     "start_time": "2025-04-18T13:07:42.712045",
     "status": "completed"
    },
    "tags": []
   },
   "outputs": [
    {
     "data": {
      "text/html": [
       "<div>\n",
       "<style scoped>\n",
       "    .dataframe tbody tr th:only-of-type {\n",
       "        vertical-align: middle;\n",
       "    }\n",
       "\n",
       "    .dataframe tbody tr th {\n",
       "        vertical-align: top;\n",
       "    }\n",
       "\n",
       "    .dataframe thead th {\n",
       "        text-align: right;\n",
       "    }\n",
       "</style>\n",
       "<table border=\"1\" class=\"dataframe\">\n",
       "  <thead>\n",
       "    <tr style=\"text-align: right;\">\n",
       "      <th></th>\n",
       "      <th>id</th>\n",
       "      <th>date</th>\n",
       "      <th>store</th>\n",
       "      <th>product</th>\n",
       "      <th>country_Canada</th>\n",
       "      <th>country_Finland</th>\n",
       "      <th>country_Italy</th>\n",
       "      <th>country_Kenya</th>\n",
       "      <th>country_Norway</th>\n",
       "      <th>country_Singapore</th>\n",
       "      <th>num_sold_log</th>\n",
       "    </tr>\n",
       "  </thead>\n",
       "  <tbody>\n",
       "    <tr>\n",
       "      <th>1</th>\n",
       "      <td>1.0</td>\n",
       "      <td>2010-01-01</td>\n",
       "      <td>Discount Stickers</td>\n",
       "      <td>Kaggle</td>\n",
       "      <td>1.0</td>\n",
       "      <td>0.0</td>\n",
       "      <td>0.0</td>\n",
       "      <td>0.0</td>\n",
       "      <td>0.0</td>\n",
       "      <td>0.0</td>\n",
       "      <td>6.881411</td>\n",
       "    </tr>\n",
       "    <tr>\n",
       "      <th>2</th>\n",
       "      <td>2.0</td>\n",
       "      <td>2010-01-01</td>\n",
       "      <td>Discount Stickers</td>\n",
       "      <td>Kaggle Tiers</td>\n",
       "      <td>1.0</td>\n",
       "      <td>0.0</td>\n",
       "      <td>0.0</td>\n",
       "      <td>0.0</td>\n",
       "      <td>0.0</td>\n",
       "      <td>0.0</td>\n",
       "      <td>6.810142</td>\n",
       "    </tr>\n",
       "    <tr>\n",
       "      <th>3</th>\n",
       "      <td>3.0</td>\n",
       "      <td>2010-01-01</td>\n",
       "      <td>Discount Stickers</td>\n",
       "      <td>Kerneler</td>\n",
       "      <td>1.0</td>\n",
       "      <td>0.0</td>\n",
       "      <td>0.0</td>\n",
       "      <td>0.0</td>\n",
       "      <td>0.0</td>\n",
       "      <td>0.0</td>\n",
       "      <td>6.049733</td>\n",
       "    </tr>\n",
       "    <tr>\n",
       "      <th>4</th>\n",
       "      <td>4.0</td>\n",
       "      <td>2010-01-01</td>\n",
       "      <td>Discount Stickers</td>\n",
       "      <td>Kerneler Dark Mode</td>\n",
       "      <td>1.0</td>\n",
       "      <td>0.0</td>\n",
       "      <td>0.0</td>\n",
       "      <td>0.0</td>\n",
       "      <td>0.0</td>\n",
       "      <td>0.0</td>\n",
       "      <td>6.198479</td>\n",
       "    </tr>\n",
       "    <tr>\n",
       "      <th>5</th>\n",
       "      <td>5.0</td>\n",
       "      <td>2010-01-01</td>\n",
       "      <td>Stickers for Less</td>\n",
       "      <td>Holographic Goose</td>\n",
       "      <td>1.0</td>\n",
       "      <td>0.0</td>\n",
       "      <td>0.0</td>\n",
       "      <td>0.0</td>\n",
       "      <td>0.0</td>\n",
       "      <td>0.0</td>\n",
       "      <td>5.707110</td>\n",
       "    </tr>\n",
       "  </tbody>\n",
       "</table>\n",
       "</div>"
      ],
      "text/plain": [
       "    id        date              store             product  country_Canada  \\\n",
       "1  1.0  2010-01-01  Discount Stickers              Kaggle             1.0   \n",
       "2  2.0  2010-01-01  Discount Stickers        Kaggle Tiers             1.0   \n",
       "3  3.0  2010-01-01  Discount Stickers            Kerneler             1.0   \n",
       "4  4.0  2010-01-01  Discount Stickers  Kerneler Dark Mode             1.0   \n",
       "5  5.0  2010-01-01  Stickers for Less   Holographic Goose             1.0   \n",
       "\n",
       "   country_Finland  country_Italy  country_Kenya  country_Norway  \\\n",
       "1              0.0            0.0            0.0             0.0   \n",
       "2              0.0            0.0            0.0             0.0   \n",
       "3              0.0            0.0            0.0             0.0   \n",
       "4              0.0            0.0            0.0             0.0   \n",
       "5              0.0            0.0            0.0             0.0   \n",
       "\n",
       "   country_Singapore  num_sold_log  \n",
       "1                0.0      6.881411  \n",
       "2                0.0      6.810142  \n",
       "3                0.0      6.049733  \n",
       "4                0.0      6.198479  \n",
       "5                0.0      5.707110  "
      ]
     },
     "execution_count": 14,
     "metadata": {},
     "output_type": "execute_result"
    }
   ],
   "source": [
    "df_train.head()"
   ]
  },
  {
   "cell_type": "code",
   "execution_count": 15,
   "id": "4c1f05c3",
   "metadata": {
    "execution": {
     "iopub.execute_input": "2025-04-18T13:07:42.752429Z",
     "iopub.status.busy": "2025-04-18T13:07:42.752105Z",
     "iopub.status.idle": "2025-04-18T13:07:42.756513Z",
     "shell.execute_reply": "2025-04-18T13:07:42.755639Z"
    },
    "papermill": {
     "duration": 0.013945,
     "end_time": "2025-04-18T13:07:42.758236",
     "exception": false,
     "start_time": "2025-04-18T13:07:42.744291",
     "status": "completed"
    },
    "tags": []
   },
   "outputs": [],
   "source": [
    "# handling -> product data"
   ]
  },
  {
   "cell_type": "code",
   "execution_count": null,
   "id": "df4bb16a",
   "metadata": {
    "papermill": {
     "duration": 0.006739,
     "end_time": "2025-04-18T13:07:42.772098",
     "exception": false,
     "start_time": "2025-04-18T13:07:42.765359",
     "status": "completed"
    },
    "tags": []
   },
   "outputs": [],
   "source": []
  },
  {
   "cell_type": "code",
   "execution_count": null,
   "id": "3c82c66d",
   "metadata": {
    "papermill": {
     "duration": 0.006486,
     "end_time": "2025-04-18T13:07:42.785925",
     "exception": false,
     "start_time": "2025-04-18T13:07:42.779439",
     "status": "completed"
    },
    "tags": []
   },
   "outputs": [],
   "source": []
  },
  {
   "cell_type": "code",
   "execution_count": null,
   "id": "b78398d4",
   "metadata": {
    "papermill": {
     "duration": 0.006563,
     "end_time": "2025-04-18T13:07:42.799177",
     "exception": false,
     "start_time": "2025-04-18T13:07:42.792614",
     "status": "completed"
    },
    "tags": []
   },
   "outputs": [],
   "source": []
  },
  {
   "cell_type": "markdown",
   "id": "878d8c8e",
   "metadata": {
    "papermill": {
     "duration": 0.006295,
     "end_time": "2025-04-18T13:07:42.812068",
     "exception": false,
     "start_time": "2025-04-18T13:07:42.805773",
     "status": "completed"
    },
    "tags": []
   },
   "source": [
    "# Testing Data"
   ]
  },
  {
   "cell_type": "code",
   "execution_count": 16,
   "id": "f23b9d23",
   "metadata": {
    "execution": {
     "iopub.execute_input": "2025-04-18T13:07:42.826884Z",
     "iopub.status.busy": "2025-04-18T13:07:42.826512Z",
     "iopub.status.idle": "2025-04-18T13:07:42.997535Z",
     "shell.execute_reply": "2025-04-18T13:07:42.996484Z"
    },
    "papermill": {
     "duration": 0.180121,
     "end_time": "2025-04-18T13:07:42.998934",
     "exception": false,
     "start_time": "2025-04-18T13:07:42.818813",
     "status": "completed"
    },
    "tags": []
   },
   "outputs": [
    {
     "data": {
      "text/html": [
       "<div>\n",
       "<style scoped>\n",
       "    .dataframe tbody tr th:only-of-type {\n",
       "        vertical-align: middle;\n",
       "    }\n",
       "\n",
       "    .dataframe tbody tr th {\n",
       "        vertical-align: top;\n",
       "    }\n",
       "\n",
       "    .dataframe thead th {\n",
       "        text-align: right;\n",
       "    }\n",
       "</style>\n",
       "<table border=\"1\" class=\"dataframe\">\n",
       "  <thead>\n",
       "    <tr style=\"text-align: right;\">\n",
       "      <th></th>\n",
       "      <th>id</th>\n",
       "      <th>date</th>\n",
       "      <th>country</th>\n",
       "      <th>store</th>\n",
       "      <th>product</th>\n",
       "    </tr>\n",
       "  </thead>\n",
       "  <tbody>\n",
       "    <tr>\n",
       "      <th>0</th>\n",
       "      <td>230130</td>\n",
       "      <td>2017-01-01</td>\n",
       "      <td>Canada</td>\n",
       "      <td>Discount Stickers</td>\n",
       "      <td>Holographic Goose</td>\n",
       "    </tr>\n",
       "    <tr>\n",
       "      <th>1</th>\n",
       "      <td>230131</td>\n",
       "      <td>2017-01-01</td>\n",
       "      <td>Canada</td>\n",
       "      <td>Discount Stickers</td>\n",
       "      <td>Kaggle</td>\n",
       "    </tr>\n",
       "    <tr>\n",
       "      <th>2</th>\n",
       "      <td>230132</td>\n",
       "      <td>2017-01-01</td>\n",
       "      <td>Canada</td>\n",
       "      <td>Discount Stickers</td>\n",
       "      <td>Kaggle Tiers</td>\n",
       "    </tr>\n",
       "    <tr>\n",
       "      <th>3</th>\n",
       "      <td>230133</td>\n",
       "      <td>2017-01-01</td>\n",
       "      <td>Canada</td>\n",
       "      <td>Discount Stickers</td>\n",
       "      <td>Kerneler</td>\n",
       "    </tr>\n",
       "    <tr>\n",
       "      <th>4</th>\n",
       "      <td>230134</td>\n",
       "      <td>2017-01-01</td>\n",
       "      <td>Canada</td>\n",
       "      <td>Discount Stickers</td>\n",
       "      <td>Kerneler Dark Mode</td>\n",
       "    </tr>\n",
       "  </tbody>\n",
       "</table>\n",
       "</div>"
      ],
      "text/plain": [
       "       id        date country              store             product\n",
       "0  230130  2017-01-01  Canada  Discount Stickers   Holographic Goose\n",
       "1  230131  2017-01-01  Canada  Discount Stickers              Kaggle\n",
       "2  230132  2017-01-01  Canada  Discount Stickers        Kaggle Tiers\n",
       "3  230133  2017-01-01  Canada  Discount Stickers            Kerneler\n",
       "4  230134  2017-01-01  Canada  Discount Stickers  Kerneler Dark Mode"
      ]
     },
     "execution_count": 16,
     "metadata": {},
     "output_type": "execute_result"
    }
   ],
   "source": [
    "df_test=pd.read_csv('/kaggle/input/playground-series-s5e1/test.csv')\n",
    "df_test.dropna(inplace=True)\n",
    "df_test.head()\n",
    "# Shape is -> (98550, 5)"
   ]
  },
  {
   "cell_type": "code",
   "execution_count": 17,
   "id": "0979810a",
   "metadata": {
    "collapsed": true,
    "execution": {
     "iopub.execute_input": "2025-04-18T13:07:43.014255Z",
     "iopub.status.busy": "2025-04-18T13:07:43.013955Z",
     "iopub.status.idle": "2025-04-18T13:07:43.051977Z",
     "shell.execute_reply": "2025-04-18T13:07:43.051085Z"
    },
    "jupyter": {
     "outputs_hidden": true
    },
    "papermill": {
     "duration": 0.047602,
     "end_time": "2025-04-18T13:07:43.053666",
     "exception": false,
     "start_time": "2025-04-18T13:07:43.006064",
     "status": "completed"
    },
    "tags": []
   },
   "outputs": [],
   "source": [
    "enc_test = OneHotEncoder()\n",
    "enc_test.fit(df_test['country'].values.reshape(-1, 1))  # Fit with the country column\n",
    "result_test = enc_test.transform(df_test['country'].values.reshape(-1, 1)).toarray()\n",
    "\n",
    "# Get feature names for the new columns\n",
    "col_names_test = enc_test.get_feature_names_out(['country'])\n",
    "\n",
    "# Convert result into a DataFrame\n",
    "onehot_df_test = pd.DataFrame(result_test, columns=col_names_test)\n",
    "\n",
    "# Concatenate with original df_train\n",
    "df_test = pd.concat([df_test, onehot_df_test], axis=1)\n",
    "\n",
    "# Now check the head\n"
   ]
  },
  {
   "cell_type": "code",
   "execution_count": 18,
   "id": "a0fe9ddf",
   "metadata": {
    "execution": {
     "iopub.execute_input": "2025-04-18T13:07:43.068941Z",
     "iopub.status.busy": "2025-04-18T13:07:43.068587Z",
     "iopub.status.idle": "2025-04-18T13:07:43.081300Z",
     "shell.execute_reply": "2025-04-18T13:07:43.080272Z"
    },
    "papermill": {
     "duration": 0.022308,
     "end_time": "2025-04-18T13:07:43.083032",
     "exception": false,
     "start_time": "2025-04-18T13:07:43.060724",
     "status": "completed"
    },
    "tags": []
   },
   "outputs": [],
   "source": [
    "df_test.drop(['country'],axis=1,inplace=True)"
   ]
  },
  {
   "cell_type": "code",
   "execution_count": 19,
   "id": "295dc6e8",
   "metadata": {
    "execution": {
     "iopub.execute_input": "2025-04-18T13:07:43.098675Z",
     "iopub.status.busy": "2025-04-18T13:07:43.097772Z",
     "iopub.status.idle": "2025-04-18T13:07:43.111423Z",
     "shell.execute_reply": "2025-04-18T13:07:43.110694Z"
    },
    "papermill": {
     "duration": 0.022619,
     "end_time": "2025-04-18T13:07:43.112660",
     "exception": false,
     "start_time": "2025-04-18T13:07:43.090041",
     "status": "completed"
    },
    "tags": []
   },
   "outputs": [
    {
     "data": {
      "text/html": [
       "<div>\n",
       "<style scoped>\n",
       "    .dataframe tbody tr th:only-of-type {\n",
       "        vertical-align: middle;\n",
       "    }\n",
       "\n",
       "    .dataframe tbody tr th {\n",
       "        vertical-align: top;\n",
       "    }\n",
       "\n",
       "    .dataframe thead th {\n",
       "        text-align: right;\n",
       "    }\n",
       "</style>\n",
       "<table border=\"1\" class=\"dataframe\">\n",
       "  <thead>\n",
       "    <tr style=\"text-align: right;\">\n",
       "      <th></th>\n",
       "      <th>id</th>\n",
       "      <th>date</th>\n",
       "      <th>store</th>\n",
       "      <th>product</th>\n",
       "      <th>country_Canada</th>\n",
       "      <th>country_Finland</th>\n",
       "      <th>country_Italy</th>\n",
       "      <th>country_Kenya</th>\n",
       "      <th>country_Norway</th>\n",
       "      <th>country_Singapore</th>\n",
       "    </tr>\n",
       "  </thead>\n",
       "  <tbody>\n",
       "    <tr>\n",
       "      <th>0</th>\n",
       "      <td>230130</td>\n",
       "      <td>2017-01-01</td>\n",
       "      <td>Discount Stickers</td>\n",
       "      <td>Holographic Goose</td>\n",
       "      <td>1.0</td>\n",
       "      <td>0.0</td>\n",
       "      <td>0.0</td>\n",
       "      <td>0.0</td>\n",
       "      <td>0.0</td>\n",
       "      <td>0.0</td>\n",
       "    </tr>\n",
       "    <tr>\n",
       "      <th>1</th>\n",
       "      <td>230131</td>\n",
       "      <td>2017-01-01</td>\n",
       "      <td>Discount Stickers</td>\n",
       "      <td>Kaggle</td>\n",
       "      <td>1.0</td>\n",
       "      <td>0.0</td>\n",
       "      <td>0.0</td>\n",
       "      <td>0.0</td>\n",
       "      <td>0.0</td>\n",
       "      <td>0.0</td>\n",
       "    </tr>\n",
       "    <tr>\n",
       "      <th>2</th>\n",
       "      <td>230132</td>\n",
       "      <td>2017-01-01</td>\n",
       "      <td>Discount Stickers</td>\n",
       "      <td>Kaggle Tiers</td>\n",
       "      <td>1.0</td>\n",
       "      <td>0.0</td>\n",
       "      <td>0.0</td>\n",
       "      <td>0.0</td>\n",
       "      <td>0.0</td>\n",
       "      <td>0.0</td>\n",
       "    </tr>\n",
       "    <tr>\n",
       "      <th>3</th>\n",
       "      <td>230133</td>\n",
       "      <td>2017-01-01</td>\n",
       "      <td>Discount Stickers</td>\n",
       "      <td>Kerneler</td>\n",
       "      <td>1.0</td>\n",
       "      <td>0.0</td>\n",
       "      <td>0.0</td>\n",
       "      <td>0.0</td>\n",
       "      <td>0.0</td>\n",
       "      <td>0.0</td>\n",
       "    </tr>\n",
       "    <tr>\n",
       "      <th>4</th>\n",
       "      <td>230134</td>\n",
       "      <td>2017-01-01</td>\n",
       "      <td>Discount Stickers</td>\n",
       "      <td>Kerneler Dark Mode</td>\n",
       "      <td>1.0</td>\n",
       "      <td>0.0</td>\n",
       "      <td>0.0</td>\n",
       "      <td>0.0</td>\n",
       "      <td>0.0</td>\n",
       "      <td>0.0</td>\n",
       "    </tr>\n",
       "  </tbody>\n",
       "</table>\n",
       "</div>"
      ],
      "text/plain": [
       "       id        date              store             product  country_Canada  \\\n",
       "0  230130  2017-01-01  Discount Stickers   Holographic Goose             1.0   \n",
       "1  230131  2017-01-01  Discount Stickers              Kaggle             1.0   \n",
       "2  230132  2017-01-01  Discount Stickers        Kaggle Tiers             1.0   \n",
       "3  230133  2017-01-01  Discount Stickers            Kerneler             1.0   \n",
       "4  230134  2017-01-01  Discount Stickers  Kerneler Dark Mode             1.0   \n",
       "\n",
       "   country_Finland  country_Italy  country_Kenya  country_Norway  \\\n",
       "0              0.0            0.0            0.0             0.0   \n",
       "1              0.0            0.0            0.0             0.0   \n",
       "2              0.0            0.0            0.0             0.0   \n",
       "3              0.0            0.0            0.0             0.0   \n",
       "4              0.0            0.0            0.0             0.0   \n",
       "\n",
       "   country_Singapore  \n",
       "0                0.0  \n",
       "1                0.0  \n",
       "2                0.0  \n",
       "3                0.0  \n",
       "4                0.0  "
      ]
     },
     "execution_count": 19,
     "metadata": {},
     "output_type": "execute_result"
    }
   ],
   "source": [
    "df_test.head()"
   ]
  },
  {
   "cell_type": "code",
   "execution_count": null,
   "id": "f9a5e907",
   "metadata": {
    "papermill": {
     "duration": 0.006927,
     "end_time": "2025-04-18T13:07:43.126799",
     "exception": false,
     "start_time": "2025-04-18T13:07:43.119872",
     "status": "completed"
    },
    "tags": []
   },
   "outputs": [],
   "source": []
  },
  {
   "cell_type": "code",
   "execution_count": null,
   "id": "1e944079",
   "metadata": {
    "papermill": {
     "duration": 0.006759,
     "end_time": "2025-04-18T13:07:43.140767",
     "exception": false,
     "start_time": "2025-04-18T13:07:43.134008",
     "status": "completed"
    },
    "tags": []
   },
   "outputs": [],
   "source": []
  }
 ],
 "metadata": {
  "kaggle": {
   "accelerator": "none",
   "dataSources": [
    {
     "databundleVersionId": 10652996,
     "sourceId": 85723,
     "sourceType": "competition"
    }
   ],
   "dockerImageVersionId": 31012,
   "isGpuEnabled": false,
   "isInternetEnabled": false,
   "language": "python",
   "sourceType": "notebook"
  },
  "kernelspec": {
   "display_name": "Python 3",
   "language": "python",
   "name": "python3"
  },
  "language_info": {
   "codemirror_mode": {
    "name": "ipython",
    "version": 3
   },
   "file_extension": ".py",
   "mimetype": "text/x-python",
   "name": "python",
   "nbconvert_exporter": "python",
   "pygments_lexer": "ipython3",
   "version": "3.11.11"
  },
  "papermill": {
   "default_parameters": {},
   "duration": 13.086073,
   "end_time": "2025-04-18T13:07:43.768060",
   "environment_variables": {},
   "exception": null,
   "input_path": "__notebook__.ipynb",
   "output_path": "__notebook__.ipynb",
   "parameters": {},
   "start_time": "2025-04-18T13:07:30.681987",
   "version": "2.6.0"
  }
 },
 "nbformat": 4,
 "nbformat_minor": 5
}
